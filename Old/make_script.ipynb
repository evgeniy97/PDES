{
 "cells": [
  {
   "cell_type": "code",
   "execution_count": 3,
   "metadata": {},
   "outputs": [
    {
     "name": "stdout",
     "output_type": "stream",
     "text": [
      "sbatch -n 1 -t 14400 --wrap \"mpirun -n 1 st.o 0.14 \"\n",
      "sbatch -n 1 -t 14400 --wrap \"mpirun -n 1 st.o 0.14020000000000002 \"\n",
      "sbatch -n 1 -t 14400 --wrap \"mpirun -n 1 st.o 0.14040000000000002 \"\n",
      "sbatch -n 1 -t 14400 --wrap \"mpirun -n 1 st.o 0.14060000000000003 \"\n",
      "sbatch -n 1 -t 14400 --wrap \"mpirun -n 1 st.o 0.14080000000000004 \"\n",
      "sbatch -n 1 -t 14400 --wrap \"mpirun -n 1 st.o 0.14100000000000004 \"\n",
      "sbatch -n 1 -t 14400 --wrap \"mpirun -n 1 st.o 0.14120000000000005 \"\n",
      "sbatch -n 1 -t 14400 --wrap \"mpirun -n 1 st.o 0.14140000000000005 \"\n",
      "sbatch -n 1 -t 14400 --wrap \"mpirun -n 1 st.o 0.14160000000000006 \"\n",
      "sbatch -n 1 -t 14400 --wrap \"mpirun -n 1 st.o 0.14180000000000006 \"\n",
      "sbatch -n 1 -t 14400 --wrap \"mpirun -n 1 st.o 0.14200000000000007 \"\n",
      "sbatch -n 1 -t 14400 --wrap \"mpirun -n 1 st.o 0.14220000000000008 \"\n",
      "sbatch -n 1 -t 14400 --wrap \"mpirun -n 1 st.o 0.14240000000000008 \"\n",
      "sbatch -n 1 -t 14400 --wrap \"mpirun -n 1 st.o 0.1426000000000001 \"\n",
      "sbatch -n 1 -t 14400 --wrap \"mpirun -n 1 st.o 0.1428000000000001 \"\n",
      "sbatch -n 1 -t 14400 --wrap \"mpirun -n 1 st.o 0.1430000000000001 \"\n",
      "sbatch -n 1 -t 14400 --wrap \"mpirun -n 1 st.o 0.1432000000000001 \"\n",
      "sbatch -n 1 -t 14400 --wrap \"mpirun -n 1 st.o 0.1434000000000001 \"\n",
      "sbatch -n 1 -t 14400 --wrap \"mpirun -n 1 st.o 0.14360000000000012 \"\n",
      "sbatch -n 1 -t 14400 --wrap \"mpirun -n 1 st.o 0.14380000000000012 \"\n"
     ]
    }
   ],
   "source": [
    "string = 'sbatch -n 10 -t 14400 --wrap \"mpirun -n 10 OSW+.o 1024 100000 1 {} 0\"'\n",
    "string = 'sbatch -n 1 -t 14400 --wrap \"mpirun -n 1 st.o {} \"'\n",
    "for q in np.arange(0.1400,0.1440,0.0002):\n",
    "    print(string.format(q))"
   ]
  },
  {
   "cell_type": "code",
   "execution_count": 2,
   "metadata": {},
   "outputs": [],
   "source": [
    "import numpy as np"
   ]
  },
  {
   "cell_type": "code",
   "execution_count": 2,
   "metadata": {},
   "outputs": [
    {
     "data": {
      "text/plain": [
       "array([0.14  , 0.1402, 0.1404, 0.1406, 0.1408, 0.141 , 0.1412, 0.1414,\n",
       "       0.1416, 0.1418, 0.142 , 0.1422, 0.1424, 0.1426, 0.1428, 0.143 ,\n",
       "       0.1432, 0.1434, 0.1436, 0.1438])"
      ]
     },
     "execution_count": 2,
     "metadata": {},
     "output_type": "execute_result"
    }
   ],
   "source": [
    "np.arange(0.1400,0.1440,0.0002)"
   ]
  },
  {
   "cell_type": "code",
   "execution_count": null,
   "metadata": {},
   "outputs": [],
   "source": []
  }
 ],
 "metadata": {
  "kernelspec": {
   "display_name": "Python 3",
   "language": "python",
   "name": "python3"
  },
  "language_info": {
   "codemirror_mode": {
    "name": "ipython",
    "version": 3
   },
   "file_extension": ".py",
   "mimetype": "text/x-python",
   "name": "python",
   "nbconvert_exporter": "python",
   "pygments_lexer": "ipython3",
   "version": "3.6.4"
  }
 },
 "nbformat": 4,
 "nbformat_minor": 2
}
